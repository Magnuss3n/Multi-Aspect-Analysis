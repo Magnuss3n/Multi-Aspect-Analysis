{
 "cells": [
  {
   "cell_type": "markdown",
   "id": "aa0b00a0-2ff8-4a60-a334-a8fd55276c54",
   "metadata": {},
   "source": [
    "# Loading the Office Supplies data in my workspace\n"
   ]
  },
  {
   "cell_type": "code",
   "execution_count": 60,
   "id": "9de821e9-1292-457b-9eac-4c5251f5bd3b",
   "metadata": {
    "scrolled": true
   },
   "outputs": [
    {
     "name": "stdout",
     "output_type": "stream",
     "text": [
      "    OrderDate   Region      Rep     Item  Units  Unit Price\n",
      "0   04-Jul-14     East  Richard  Pen Set     62        4.99\n",
      "1   12-Jul-14     East     Nick   Binder     29        1.99\n",
      "2   21-Jul-14  Central   Morgan  Pen Set     55       12.49\n",
      "3   29-Jul-14     East    Susan   Binder     81       19.99\n",
      "4   07-Aug-14  Central  Matthew  Pen Set     42       23.95\n",
      "5   15-Aug-14     East  Richard   Pencil     35        4.99\n",
      "6   24-Aug-14     West    James     Desk      3      275.00\n",
      "7   01-Sep-14  Central    Smith     Desk      2      125.00\n",
      "8   10-Sep-14  Central     Bill   Pencil      7        1.29\n",
      "9   18-Sep-14     East  Richard  Pen Set     16       15.99\n",
      "10  27-Sep-14     West    James      Pen     76        1.99\n",
      "11  05-Oct-14  Central   Morgan   Binder     28        8.99\n",
      "12  14-Oct-14     West   Thomas   Binder     57       19.99\n",
      "13  22-Oct-14     East  Richard      Pen     64        8.99\n",
      "14  31-Oct-14  Central   Rachel   Pencil     14        1.29\n",
      "15  08-Nov-14     East    Susan      Pen     15       19.99\n",
      "16  17-Nov-14  Central     Alex   Binder     11        4.99\n",
      "17  25-Nov-14  Central  Matthew  Pen Set     96        4.99\n",
      "18  04-Dec-14  Central     Alex   Binder     94       19.99\n",
      "19  12-Dec-14  Central    Smith   Pencil     67        1.29\n",
      "20  21-Dec-14  Central   Rachel   Binder     28        4.99\n",
      "21  29-Dec-14     East    Susan  Pen Set     74       15.99\n",
      "22  06-Jan-15     East  Richard   Pencil     95        1.99\n",
      "23  15-Jan-15  Central     Bill   Binder     46        8.99\n",
      "24  23-Jan-15  Central  Matthew   Binder     50       19.99\n",
      "25  01-Feb-15  Central    Smith   Binder     87       15.00\n",
      "26  09-Feb-15  Central     Alex   Pencil     36        4.99\n",
      "27  18-Feb-15     East  Richard   Binder      4        4.99\n",
      "28  26-Feb-15  Central     Bill      Pen     27       19.99\n",
      "29  07-Mar-15     West    James   Binder      7       19.99\n",
      "30  15-Mar-15     West    James   Pencil     56        2.99\n",
      "31  24-Mar-15  Central     Alex  Pen Set     50        4.99\n",
      "32  01-Apr-15     East  Richard   Binder     60        4.99\n",
      "33  10-Apr-15  Central   Rachel   Pencil     66        1.99\n",
      "34  18-Apr-15  Central   Rachel   Pencil     75        1.99\n",
      "35  27-Apr-15     East     Nick      Pen     96        4.99\n",
      "36  05-May-15  Central     Alex   Pencil     90        4.99\n",
      "37  14-May-15  Central     Bill   Pencil     53        1.29\n",
      "38  22-May-15     West   Thomas   Pencil     32        1.99\n",
      "39  31-May-15  Central     Bill   Binder     80        8.99\n",
      "40  08-Jun-15     East  Richard   Binder     60        8.99\n",
      "41  17-Jun-15  Central  Matthew     Desk      5      125.00\n",
      "42  25-Jun-15  Central   Morgan   Pencil     90        4.99\n"
     ]
    }
   ],
   "source": [
    "import pandas as pd\n",
    "\n",
    "file_path = 'P2- OfficeSupplies Data.csv'\n",
    "df = pd.read_csv(file_path)\n",
    "print(df)"
   ]
  },
  {
   "cell_type": "markdown",
   "id": "825fb6cf-afe3-4135-a604-cb9cc1a46e07",
   "metadata": {},
   "source": [
    "## Sales Analysis"
   ]
  },
  {
   "cell_type": "markdown",
   "id": "a6cb4881-c9d4-4f02-b814-17108cbb2522",
   "metadata": {},
   "source": [
    "### Total sales for each product category"
   ]
  },
  {
   "cell_type": "code",
   "execution_count": 64,
   "id": "277a470e-dff6-4c35-8cc2-66fbeaa93924",
   "metadata": {},
   "outputs": [
    {
     "name": "stdout",
     "output_type": "stream",
     "text": [
      "Item\n",
      "Binder     9577.65\n",
      "Pen Set    4169.87\n",
      "Pencil     2135.14\n",
      "Pen        2045.22\n",
      "Desk       1700.00\n",
      "Name: Total Sales, dtype: float64\n"
     ]
    }
   ],
   "source": [
    "Item = df['Item']\n",
    "Units = df['Units']\n",
    "Unit_Price = df['Unit Price']\n",
    "\n",
    "df['Total Sales'] = Units * Unit_Price\n",
    "\n",
    "total_sales_per_category = df.groupby('Item')['Total Sales'].sum()\n",
    "total_sales_per_category = total_sales_per_category.sort_values(ascending=False)\n",
    "print(total_sales_per_category)"
   ]
  },
  {
   "cell_type": "markdown",
   "id": "3e7db539-f9ba-49e9-a87b-a10dc293fac0",
   "metadata": {},
   "source": [
    "### To find the highest total sale category"
   ]
  },
  {
   "cell_type": "code",
   "execution_count": 45,
   "id": "40dbfae2-c72c-4163-97c7-c126b24a31fa",
   "metadata": {},
   "outputs": [
    {
     "name": "stdout",
     "output_type": "stream",
     "text": [
      "The category 'Binder' has the highest sales with a total of ₹9577.65\n"
     ]
    }
   ],
   "source": [
    "max_category = None\n",
    "max_sales = -1 # as starting with a low umber that is guranteed to be lower\n",
    "# than any other number\n",
    "\n",
    "for category, sales  in total_sales_per_category.items():\n",
    "    if sales > max_sales:\n",
    "        max_sales = sales\n",
    "        max_category = category\n",
    "\n",
    "print(f\"The category '{max_category}' has the highest sales with a total of ₹{max_sales}\")"
   ]
  },
  {
   "cell_type": "markdown",
   "id": "ea0b913c-f3d7-4a34-9403-8fb6a495245b",
   "metadata": {},
   "source": [
    "### Identifying the top 10 best selling products"
   ]
  },
  {
   "cell_type": "code",
   "execution_count": 56,
   "id": "4ecf2c5f-12ff-4df8-a80a-3349a5e84c2c",
   "metadata": {},
   "outputs": [
    {
     "name": "stdout",
     "output_type": "stream",
     "text": [
      "Top 10 highest-selling products:\n",
      "       Item  Units  Unit Price  Total Sales\n",
      "18   Binder     94       19.99      1879.06\n",
      "3    Binder     81       19.99      1619.19\n",
      "25   Binder     87       15.00      1305.00\n",
      "21  Pen Set     74       15.99      1183.26\n",
      "12   Binder     57       19.99      1139.43\n",
      "4   Pen Set     42       23.95      1005.90\n",
      "24   Binder     50       19.99       999.50\n",
      "6      Desk      3      275.00       825.00\n",
      "39   Binder     80        8.99       719.20\n",
      "2   Pen Set     55       12.49       686.95\n"
     ]
    }
   ],
   "source": [
    "df_sorted = df.sort_values(by='Total Sales', ascending=False)\n",
    "\n",
    "top_10_sales = df_sorted.head(10)\n",
    "print(\"Top 10 highest-selling products:\")\n",
    "print(top_10_sales[['Item', 'Units', 'Unit Price', 'Total Sales']])"
   ]
  },
  {
   "cell_type": "markdown",
   "id": "c23abf4f-aff5-4cd7-be59-1d44cbb17c8f",
   "metadata": {},
   "source": [
    "# Customer Analysis"
   ]
  },
  {
   "cell_type": "markdown",
   "id": "31d6f4ed-0e88-462c-923b-f5d06f2c5cdb",
   "metadata": {},
   "source": [
    "### What are the top 10 customers by sale."
   ]
  },
  {
   "cell_type": "code",
   "execution_count": 67,
   "id": "4c25e671-9479-4fe5-b639-f9ac096f2c41",
   "metadata": {},
   "outputs": [
    {
     "data": {
      "text/plain": [
       "18       Alex\n",
       "3       Susan\n",
       "25      Smith\n",
       "21      Susan\n",
       "12     Thomas\n",
       "4     Matthew\n",
       "24    Matthew\n",
       "6       James\n",
       "39       Bill\n",
       "2      Morgan\n",
       "Name: Rep, dtype: object"
      ]
     },
     "execution_count": 67,
     "metadata": {},
     "output_type": "execute_result"
    }
   ],
   "source": [
    "top_10_sales['Rep']"
   ]
  },
  {
   "cell_type": "markdown",
   "id": "ed1bcc61-5a1f-4c9e-aac3-5fc7c7c5be10",
   "metadata": {},
   "source": [
    "### Total number of Unique customers"
   ]
  },
  {
   "cell_type": "code",
   "execution_count": 93,
   "id": "091e0759-cbf1-46ea-a107-299008b88980",
   "metadata": {},
   "outputs": [
    {
     "name": "stdout",
     "output_type": "stream",
     "text": [
      "11\n"
     ]
    }
   ],
   "source": [
    "import pandas as pd\n",
    "\n",
    "file_path = 'P2- OfficeSupplies Data.csv'\n",
    "df = pd.read_csv(file_path)\n",
    "Item = df['Item']\n",
    "Units = df['Units']\n",
    "Unit_Price = df['Unit Price']\n",
    "\n",
    "df['Total Sales'] = Units * Unit_Price\n",
    "\n",
    "unique_customers = df.groupby('Rep')['Total Sales'].sum()\n",
    "print(len(unique_customers))"
   ]
  },
  {
   "cell_type": "markdown",
   "id": "1aee1105-046a-4108-a6fd-984df485aafd",
   "metadata": {},
   "source": [
    "### Analysing customer purchase frequency "
   ]
  },
  {
   "cell_type": "code",
   "execution_count": 99,
   "id": "c63d24f1-ec82-41d0-839b-07848fc64ccd",
   "metadata": {},
   "outputs": [
    {
     "name": "stdout",
     "output_type": "stream",
     "text": [
      "        Rep  Units  Total Sales  \\\n",
      "0      Alex    281      2812.19   \n",
      "1      Bill    213      1749.87   \n",
      "2     James    142      1283.61   \n",
      "3   Matthew    193      3109.44   \n",
      "4    Morgan    173      1387.77   \n",
      "5      Nick    125       536.75   \n",
      "6    Rachel    183       438.37   \n",
      "7   Richard    396      2363.04   \n",
      "8     Smith    156      1641.43   \n",
      "9     Susan    170      3102.30   \n",
      "10   Thomas     89      1203.11   \n",
      "\n",
      "                                                 Item  \n",
      "0             Binder, Binder, Pencil, Pen Set, Pencil  \n",
      "1                 Pencil, Binder, Pen, Pencil, Binder  \n",
      "2                           Desk, Pen, Binder, Pencil  \n",
      "3                      Pen Set, Pen Set, Binder, Desk  \n",
      "4                             Pen Set, Binder, Pencil  \n",
      "5                                         Binder, Pen  \n",
      "6                      Pencil, Binder, Pencil, Pencil  \n",
      "7   Pen Set, Pencil, Pen Set, Pen, Pencil, Binder,...  \n",
      "8                                Desk, Pencil, Binder  \n",
      "9                                Binder, Pen, Pen Set  \n",
      "10                                     Binder, Pencil  \n"
     ]
    }
   ],
   "source": [
    "purchase_frequency = df.groupby('Rep')['Units'].sum()\n",
    "grouped  = df.groupby('Rep').agg({\n",
    "    'Units': 'sum',\n",
    "    'Total Sales': 'sum',\n",
    "    'Item': lambda x: ', '.join(x)\n",
    "}).reset_index()\n",
    "print(grouped)"
   ]
  },
  {
   "cell_type": "markdown",
   "id": "d86f3387-26db-4541-ac48-c4088cceb37b",
   "metadata": {},
   "source": [
    "# Time series analysis"
   ]
  },
  {
   "cell_type": "markdown",
   "id": "694d5c82-b266-4386-832d-7b65152fc9c6",
   "metadata": {},
   "source": [
    "### The month sales trend over the past year"
   ]
  },
  {
   "cell_type": "code",
   "execution_count": 108,
   "id": "09c58737-1ba1-4017-be7b-d2f32663011a",
   "metadata": {},
   "outputs": [
    {
     "name": "stdout",
     "output_type": "stream",
     "text": [
      "Month\n",
      "1     1602.09\n",
      "2     2044.33\n",
      "3      556.87\n",
      "4     1059.03\n",
      "5     1300.35\n",
      "6     1613.50\n",
      "7     2673.23\n",
      "8     2005.55\n",
      "9      666.11\n",
      "10    1984.57\n",
      "11     833.78\n",
      "12    3288.47\n",
      "Name: Total Sales, dtype: float64\n"
     ]
    }
   ],
   "source": [
    "df['OrderDate'] = pd.to_datetime(df['OrderDate'], format='%d-%b-%y')\n",
    "df['Month'] = df['OrderDate'].dt.month\n",
    "monthly_sales = df.groupby('Month')['Total Sales'].sum()\n",
    "print(monthly_sales)"
   ]
  },
  {
   "cell_type": "markdown",
   "id": "03df02f9-fcfd-4f7e-b65c-b80a1daf103b",
   "metadata": {},
   "source": [
    "### Seosonal patterns in the sales data."
   ]
  },
  {
   "cell_type": "code",
   "execution_count": 115,
   "id": "58608bcc-000e-4046-b076-4da7e7809cde",
   "metadata": {},
   "outputs": [
    {
     "data": {
      "image/png": "[encoded data removed]",
      "text/plain": [
       "<Figure size 1200x700 with 1 Axes>"
      ]
     },
     "metadata": {},
     "output_type": "display_data"
    }
   ],
   "source": [
    "import matplotlib.pyplot as plt\n",
    "\n",
    "plt.figure(figsize=(12, 7))\n",
    "plt.plot(monthly_sales, marker='o', linestyle='-')\n",
    "plt.title('Monthly Total Sales')\n",
    "plt.xlabel('Month')\n",
    "plt.ylabel('Total Sales')\n",
    "plt.grid(True)\n",
    "plt.show()\n"
   ]
  },
  {
   "cell_type": "markdown",
   "id": "ed54c8e8-2409-4f51-bc37-e507c0755292",
   "metadata": {},
   "source": [
    "# Geographical Analysis"
   ]
  },
  {
   "cell_type": "markdown",
   "id": "9be60882-d35d-4892-b341-f8d00745cd53",
   "metadata": {},
   "source": [
    "### Regions that generate the most sales"
   ]
  },
  {
   "cell_type": "code",
   "execution_count": 120,
   "id": "03e11b02-9bd7-439d-99fd-d2766b401bd5",
   "metadata": {},
   "outputs": [
    {
     "name": "stdout",
     "output_type": "stream",
     "text": [
      "Region\n",
      "Central    11139.07\n",
      "East        6002.09\n",
      "West        2486.72\n",
      "Name: Total Sales, dtype: float64\n"
     ]
    }
   ],
   "source": [
    "Region = df.groupby('Region')['Total Sales'].sum()\n",
    "print(Region)"
   ]
  },
  {
   "cell_type": "code",
   "execution_count": 132,
   "id": "4f459b63-fdbf-4fb4-b925-f0ae8cc65cd5",
   "metadata": {},
   "outputs": [
    {
     "name": "stdout",
     "output_type": "stream",
     "text": [
      " The region that generates the most sales is Central: 11139.07\n"
     ]
    },
    {
     "data": {
      "image/png": "[encoded data removed]",
      "text/plain": [
       "<Figure size 800x500 with 1 Axes>"
      ]
     },
     "metadata": {},
     "output_type": "display_data"
    }
   ],
   "source": [
    "max_sales = -1\n",
    "max_category = None\n",
    "\n",
    "for category, sales in Region.items():\n",
    "    if (sales > max_sales):\n",
    "        max_sales = sales\n",
    "        max_category = category\n",
    "\n",
    "print(f\" The region that generates the most sales is {max_category}: {max_sales}\")\n",
    "region_sales = df.groupby('Region')['Total Sales'].sum()\n",
    "\n",
    "plt.figure(figsize=(8, 5))\n",
    "plt.bar(region_sales.index, region_sales.values)\n",
    "plt.xlabel('Region')\n",
    "plt.ylabel('Total Sales')\n",
    "plt.title('Total Sales by Region')\n",
    "plt.grid(True)\n"
   ]
  },
  {
   "cell_type": "markdown",
   "id": "f96ac6f9-00be-4f8f-b9de-da9dc231c9da",
   "metadata": {},
   "source": [
    "## Profit Analysis"
   ]
  },
  {
   "cell_type": "markdown",
   "id": "f5a54854-d7d8-4f61-b346-cb60500cad04",
   "metadata": {},
   "source": [
    "### Total profit for each product category"
   ]
  },
  {
   "cell_type": "code",
   "execution_count": 22,
   "id": "776d517d-e12c-49d4-bd16-5b4170efa4bd",
   "metadata": {},
   "outputs": [
    {
     "name": "stdout",
     "output_type": "stream",
     "text": [
      "Item\n",
      "Binder      957.765\n",
      "Desk        204.000\n",
      "Pen         715.827\n",
      "Pen Set    1250.961\n",
      "Pencil      854.056\n",
      "Name: Profit, dtype: float64\n"
     ]
    }
   ],
   "source": [
    "# well as i don't see any profit percentage or the original cost of the \n",
    "# product i am going to assume a profit percentage on each product category.\n",
    "\n",
    "import pandas as pd\n",
    "import matplotlib.pyplot as plt\n",
    "\n",
    "file_path = 'P2- OfficeSupplies Data.csv'\n",
    "df = pd.read_csv(file_path)\n",
    "Item = df['Item']\n",
    "Units = df['Units']\n",
    "Unit_Price = df['Unit Price']\n",
    "\n",
    "df['Total Sales'] = Units * Unit_Price\n",
    "\n",
    "profit_percentage = {\n",
    "    'Binder': 10,\n",
    "    'Pen Set': 30,\n",
    "    'Pencil': 40,\n",
    "    'Desk': 12,\n",
    "    'Pen': 35,\n",
    "}\n",
    "df['Profit'] = 0.0\n",
    "\n",
    "for i in range(len(df)):\n",
    "    item = df.at[i, 'Item']  # Get the item for the current row\n",
    "    total_sales = df.at[i, 'Total Sales']  # Get the total sales for the current row\n",
    "    profit_pct = profit_percentage[item]  # Get the profit percentage for the item\n",
    "    df.at[i, 'Profit'] = total_sales * (profit_pct / 100) \n",
    "\n",
    "total_profit_per_category = df.groupby('Item')['Profit'].sum()\n",
    "print(total_profit_per_category)"
   ]
  },
  {
   "cell_type": "markdown",
   "id": "8c3947ee-0c55-44f6-b892-4e75ab6bcecb",
   "metadata": {},
   "source": [
    "### Identifying the top 10 most profitable products"
   ]
  },
  {
   "cell_type": "code",
   "execution_count": 17,
   "id": "ecbdbbad-b997-48f6-8bf6-e9cdedea53e0",
   "metadata": {},
   "outputs": [
    {
     "name": "stdout",
     "output_type": "stream",
     "text": [
      "21    354.9780\n",
      "4     301.7700\n",
      "2     206.0850\n",
      "13    201.3760\n",
      "28    188.9055\n",
      "18    187.9060\n",
      "36    179.6400\n",
      "42    179.6400\n",
      "35    167.6640\n",
      "3     161.9190\n",
      "Name: Profit, dtype: float64\n"
     ]
    }
   ],
   "source": [
    "\n",
    "total_sales_per_category = df.groupby('Item')['Total Sales'].sum()\n",
    "total_sales_per_category = total_sales_per_category.sort_values(ascending=False)\n",
    "\n",
    "\n",
    "top_10_profitable_products = df['Profit'].sort_values(ascending=False)[:10]\n",
    "print(top_10_profitable_products)"
   ]
  }
 ],
 "metadata": {
  "kernelspec": {
   "display_name": "Python 3 (ipykernel)",
   "language": "python",
   "name": "python3"
  },
  "language_info": {
   "codemirror_mode": {
    "name": "ipython",
    "version": 3
   },
   "file_extension": ".py",
   "mimetype": "text/x-python",
   "name": "python",
   "nbconvert_exporter": "python",
   "pygments_lexer": "ipython3",
   "version": "3.11.7"
  }
 },
 "nbformat": 4,
 "nbformat_minor": 5
}
