{
 "cells": [
  {
   "cell_type": "markdown",
   "id": "39263e05-c5c3-4475-ac11-222ded6b3cee",
   "metadata": {},
   "source": [
    "# Loading the data of churn modelling of excel format in my workspace."
   ]
  },
  {
   "cell_type": "code",
   "execution_count": 1,
   "id": "a9bce0a3-bdd9-4572-82f5-4ed1b13305ef",
   "metadata": {
    "editable": true,
    "slideshow": {
     "slide_type": ""
    },
    "tags": []
   },
   "outputs": [
    {
     "data": {
      "text/html": [
       "<div>\n",
       "<style scoped>\n",
       "    .dataframe tbody tr th:only-of-type {\n",
       "        vertical-align: middle;\n",
       "    }\n",
       "\n",
       "    .dataframe tbody tr th {\n",
       "        vertical-align: top;\n",
       "    }\n",
       "\n",
       "    .dataframe thead th {\n",
       "        text-align: right;\n",
       "    }\n",
       "</style>\n",
       "<table border=\"1\" class=\"dataframe\">\n",
       "  <thead>\n",
       "    <tr style=\"text-align: right;\">\n",
       "      <th></th>\n",
       "      <th>RowNumber</th>\n",
       "      <th>CustomerId</th>\n",
       "      <th>Surname</th>\n",
       "      <th>CreditScore</th>\n",
       "      <th>Geography</th>\n",
       "      <th>Gender</th>\n",
       "      <th>Age</th>\n",
       "      <th>Tenure</th>\n",
       "      <th>Balance</th>\n",
       "      <th>NumOfProducts</th>\n",
       "      <th>HasCrCard</th>\n",
       "      <th>IsActiveMember</th>\n",
       "      <th>EstimatedSalary</th>\n",
       "      <th>churned</th>\n",
       "    </tr>\n",
       "  </thead>\n",
       "  <tbody>\n",
       "    <tr>\n",
       "      <th>0</th>\n",
       "      <td>1</td>\n",
       "      <td>15634602</td>\n",
       "      <td>Hargrave</td>\n",
       "      <td>619</td>\n",
       "      <td>France</td>\n",
       "      <td>Female</td>\n",
       "      <td>42</td>\n",
       "      <td>2</td>\n",
       "      <td>0.00</td>\n",
       "      <td>1</td>\n",
       "      <td>1</td>\n",
       "      <td>1</td>\n",
       "      <td>101348.88</td>\n",
       "      <td>1</td>\n",
       "    </tr>\n",
       "    <tr>\n",
       "      <th>1</th>\n",
       "      <td>2</td>\n",
       "      <td>15647311</td>\n",
       "      <td>Hill</td>\n",
       "      <td>608</td>\n",
       "      <td>Spain</td>\n",
       "      <td>Female</td>\n",
       "      <td>41</td>\n",
       "      <td>1</td>\n",
       "      <td>83807.86</td>\n",
       "      <td>1</td>\n",
       "      <td>0</td>\n",
       "      <td>1</td>\n",
       "      <td>112542.58</td>\n",
       "      <td>0</td>\n",
       "    </tr>\n",
       "    <tr>\n",
       "      <th>2</th>\n",
       "      <td>3</td>\n",
       "      <td>15619304</td>\n",
       "      <td>Onio</td>\n",
       "      <td>502</td>\n",
       "      <td>France</td>\n",
       "      <td>Female</td>\n",
       "      <td>42</td>\n",
       "      <td>8</td>\n",
       "      <td>159660.80</td>\n",
       "      <td>3</td>\n",
       "      <td>1</td>\n",
       "      <td>0</td>\n",
       "      <td>113931.57</td>\n",
       "      <td>1</td>\n",
       "    </tr>\n",
       "    <tr>\n",
       "      <th>3</th>\n",
       "      <td>4</td>\n",
       "      <td>15701354</td>\n",
       "      <td>Boni</td>\n",
       "      <td>699</td>\n",
       "      <td>France</td>\n",
       "      <td>Female</td>\n",
       "      <td>39</td>\n",
       "      <td>1</td>\n",
       "      <td>0.00</td>\n",
       "      <td>2</td>\n",
       "      <td>0</td>\n",
       "      <td>0</td>\n",
       "      <td>93826.63</td>\n",
       "      <td>0</td>\n",
       "    </tr>\n",
       "    <tr>\n",
       "      <th>4</th>\n",
       "      <td>5</td>\n",
       "      <td>15737888</td>\n",
       "      <td>Mitchell</td>\n",
       "      <td>850</td>\n",
       "      <td>Spain</td>\n",
       "      <td>Female</td>\n",
       "      <td>43</td>\n",
       "      <td>2</td>\n",
       "      <td>125510.82</td>\n",
       "      <td>1</td>\n",
       "      <td>1</td>\n",
       "      <td>1</td>\n",
       "      <td>79084.10</td>\n",
       "      <td>0</td>\n",
       "    </tr>\n",
       "    <tr>\n",
       "      <th>...</th>\n",
       "      <td>...</td>\n",
       "      <td>...</td>\n",
       "      <td>...</td>\n",
       "      <td>...</td>\n",
       "      <td>...</td>\n",
       "      <td>...</td>\n",
       "      <td>...</td>\n",
       "      <td>...</td>\n",
       "      <td>...</td>\n",
       "      <td>...</td>\n",
       "      <td>...</td>\n",
       "      <td>...</td>\n",
       "      <td>...</td>\n",
       "      <td>...</td>\n",
       "    </tr>\n",
       "    <tr>\n",
       "      <th>9995</th>\n",
       "      <td>9996</td>\n",
       "      <td>15606229</td>\n",
       "      <td>Obijiaku</td>\n",
       "      <td>771</td>\n",
       "      <td>France</td>\n",
       "      <td>Male</td>\n",
       "      <td>39</td>\n",
       "      <td>5</td>\n",
       "      <td>0.00</td>\n",
       "      <td>2</td>\n",
       "      <td>1</td>\n",
       "      <td>0</td>\n",
       "      <td>96270.64</td>\n",
       "      <td>0</td>\n",
       "    </tr>\n",
       "    <tr>\n",
       "      <th>9996</th>\n",
       "      <td>9997</td>\n",
       "      <td>15569892</td>\n",
       "      <td>Johnstone</td>\n",
       "      <td>516</td>\n",
       "      <td>France</td>\n",
       "      <td>Male</td>\n",
       "      <td>35</td>\n",
       "      <td>10</td>\n",
       "      <td>57369.61</td>\n",
       "      <td>1</td>\n",
       "      <td>1</td>\n",
       "      <td>1</td>\n",
       "      <td>101699.77</td>\n",
       "      <td>0</td>\n",
       "    </tr>\n",
       "    <tr>\n",
       "      <th>9997</th>\n",
       "      <td>9998</td>\n",
       "      <td>15584532</td>\n",
       "      <td>Liu</td>\n",
       "      <td>709</td>\n",
       "      <td>France</td>\n",
       "      <td>Female</td>\n",
       "      <td>36</td>\n",
       "      <td>7</td>\n",
       "      <td>0.00</td>\n",
       "      <td>1</td>\n",
       "      <td>0</td>\n",
       "      <td>1</td>\n",
       "      <td>42085.58</td>\n",
       "      <td>1</td>\n",
       "    </tr>\n",
       "    <tr>\n",
       "      <th>9998</th>\n",
       "      <td>9999</td>\n",
       "      <td>15682355</td>\n",
       "      <td>Sabbatini</td>\n",
       "      <td>772</td>\n",
       "      <td>Germany</td>\n",
       "      <td>Male</td>\n",
       "      <td>42</td>\n",
       "      <td>3</td>\n",
       "      <td>75075.31</td>\n",
       "      <td>2</td>\n",
       "      <td>1</td>\n",
       "      <td>0</td>\n",
       "      <td>92888.52</td>\n",
       "      <td>1</td>\n",
       "    </tr>\n",
       "    <tr>\n",
       "      <th>9999</th>\n",
       "      <td>10000</td>\n",
       "      <td>15628319</td>\n",
       "      <td>Walker</td>\n",
       "      <td>792</td>\n",
       "      <td>France</td>\n",
       "      <td>Female</td>\n",
       "      <td>28</td>\n",
       "      <td>4</td>\n",
       "      <td>130142.79</td>\n",
       "      <td>1</td>\n",
       "      <td>1</td>\n",
       "      <td>0</td>\n",
       "      <td>38190.78</td>\n",
       "      <td>0</td>\n",
       "    </tr>\n",
       "  </tbody>\n",
       "</table>\n",
       "<p>10000 rows × 14 columns</p>\n",
       "</div>"
      ],
      "text/plain": [
       "      RowNumber  CustomerId    Surname  CreditScore Geography  Gender  Age  \\\n",
       "0             1    15634602   Hargrave          619    France  Female   42   \n",
       "1             2    15647311       Hill          608     Spain  Female   41   \n",
       "2             3    15619304       Onio          502    France  Female   42   \n",
       "3             4    15701354       Boni          699    France  Female   39   \n",
       "4             5    15737888   Mitchell          850     Spain  Female   43   \n",
       "...         ...         ...        ...          ...       ...     ...  ...   \n",
       "9995       9996    15606229   Obijiaku          771    France    Male   39   \n",
       "9996       9997    15569892  Johnstone          516    France    Male   35   \n",
       "9997       9998    15584532        Liu          709    France  Female   36   \n",
       "9998       9999    15682355  Sabbatini          772   Germany    Male   42   \n",
       "9999      10000    15628319     Walker          792    France  Female   28   \n",
       "\n",
       "      Tenure    Balance  NumOfProducts  HasCrCard  IsActiveMember  \\\n",
       "0          2       0.00              1          1               1   \n",
       "1          1   83807.86              1          0               1   \n",
       "2          8  159660.80              3          1               0   \n",
       "3          1       0.00              2          0               0   \n",
       "4          2  125510.82              1          1               1   \n",
       "...      ...        ...            ...        ...             ...   \n",
       "9995       5       0.00              2          1               0   \n",
       "9996      10   57369.61              1          1               1   \n",
       "9997       7       0.00              1          0               1   \n",
       "9998       3   75075.31              2          1               0   \n",
       "9999       4  130142.79              1          1               0   \n",
       "\n",
       "      EstimatedSalary  churned  \n",
       "0           101348.88        1  \n",
       "1           112542.58        0  \n",
       "2           113931.57        1  \n",
       "3            93826.63        0  \n",
       "4            79084.10        0  \n",
       "...               ...      ...  \n",
       "9995         96270.64        0  \n",
       "9996        101699.77        0  \n",
       "9997         42085.58        1  \n",
       "9998         92888.52        1  \n",
       "9999         38190.78        0  \n",
       "\n",
       "[10000 rows x 14 columns]"
      ]
     },
     "execution_count": 1,
     "metadata": {},
     "output_type": "execute_result"
    }
   ],
   "source": [
    "import pandas as pd\n",
    "\n",
    "file_path = r'P3- Churn-Modelling Data.xlsx'\n",
    "df = pd.read_excel(file_path)\n",
    "df"
   ]
  },
  {
   "cell_type": "markdown",
   "id": "96d33501-620f-48b1-bf3f-8298c5a38732",
   "metadata": {},
   "source": [
    "## Cutomer Demographics"
   ]
  },
  {
   "cell_type": "markdown",
   "id": "762492e2-703c-41cc-9290-3a641b03c9ff",
   "metadata": {},
   "source": [
    "### Distribution of customers across different age groups."
   ]
  },
  {
   "cell_type": "code",
   "execution_count": 2,
   "id": "098051bd-cdfe-4831-9c21-732098173a38",
   "metadata": {},
   "outputs": [
    {
     "data": {
      "text/html": [
       "<div>\n",
       "<style scoped>\n",
       "    .dataframe tbody tr th:only-of-type {\n",
       "        vertical-align: middle;\n",
       "    }\n",
       "\n",
       "    .dataframe tbody tr th {\n",
       "        vertical-align: top;\n",
       "    }\n",
       "\n",
       "    .dataframe thead th {\n",
       "        text-align: right;\n",
       "    }\n",
       "</style>\n",
       "<table border=\"1\" class=\"dataframe\">\n",
       "  <thead>\n",
       "    <tr style=\"text-align: right;\">\n",
       "      <th></th>\n",
       "      <th>RowNumber</th>\n",
       "      <th>CustomerId</th>\n",
       "      <th>Surname</th>\n",
       "      <th>CreditScore</th>\n",
       "      <th>Geography</th>\n",
       "      <th>Gender</th>\n",
       "      <th>Age</th>\n",
       "      <th>Tenure</th>\n",
       "      <th>Balance</th>\n",
       "      <th>NumOfProducts</th>\n",
       "      <th>HasCrCard</th>\n",
       "      <th>IsActiveMember</th>\n",
       "      <th>EstimatedSalary</th>\n",
       "      <th>churned</th>\n",
       "      <th>AgeGroup</th>\n",
       "    </tr>\n",
       "  </thead>\n",
       "  <tbody>\n",
       "    <tr>\n",
       "      <th>0</th>\n",
       "      <td>1</td>\n",
       "      <td>15634602</td>\n",
       "      <td>Hargrave</td>\n",
       "      <td>619</td>\n",
       "      <td>France</td>\n",
       "      <td>Female</td>\n",
       "      <td>42</td>\n",
       "      <td>2</td>\n",
       "      <td>0.00</td>\n",
       "      <td>1</td>\n",
       "      <td>1</td>\n",
       "      <td>1</td>\n",
       "      <td>101348.88</td>\n",
       "      <td>1</td>\n",
       "      <td>40-49</td>\n",
       "    </tr>\n",
       "    <tr>\n",
       "      <th>1</th>\n",
       "      <td>2</td>\n",
       "      <td>15647311</td>\n",
       "      <td>Hill</td>\n",
       "      <td>608</td>\n",
       "      <td>Spain</td>\n",
       "      <td>Female</td>\n",
       "      <td>41</td>\n",
       "      <td>1</td>\n",
       "      <td>83807.86</td>\n",
       "      <td>1</td>\n",
       "      <td>0</td>\n",
       "      <td>1</td>\n",
       "      <td>112542.58</td>\n",
       "      <td>0</td>\n",
       "      <td>40-49</td>\n",
       "    </tr>\n",
       "    <tr>\n",
       "      <th>2</th>\n",
       "      <td>3</td>\n",
       "      <td>15619304</td>\n",
       "      <td>Onio</td>\n",
       "      <td>502</td>\n",
       "      <td>France</td>\n",
       "      <td>Female</td>\n",
       "      <td>42</td>\n",
       "      <td>8</td>\n",
       "      <td>159660.80</td>\n",
       "      <td>3</td>\n",
       "      <td>1</td>\n",
       "      <td>0</td>\n",
       "      <td>113931.57</td>\n",
       "      <td>1</td>\n",
       "      <td>40-49</td>\n",
       "    </tr>\n",
       "    <tr>\n",
       "      <th>3</th>\n",
       "      <td>4</td>\n",
       "      <td>15701354</td>\n",
       "      <td>Boni</td>\n",
       "      <td>699</td>\n",
       "      <td>France</td>\n",
       "      <td>Female</td>\n",
       "      <td>39</td>\n",
       "      <td>1</td>\n",
       "      <td>0.00</td>\n",
       "      <td>2</td>\n",
       "      <td>0</td>\n",
       "      <td>0</td>\n",
       "      <td>93826.63</td>\n",
       "      <td>0</td>\n",
       "      <td>30-39</td>\n",
       "    </tr>\n",
       "    <tr>\n",
       "      <th>4</th>\n",
       "      <td>5</td>\n",
       "      <td>15737888</td>\n",
       "      <td>Mitchell</td>\n",
       "      <td>850</td>\n",
       "      <td>Spain</td>\n",
       "      <td>Female</td>\n",
       "      <td>43</td>\n",
       "      <td>2</td>\n",
       "      <td>125510.82</td>\n",
       "      <td>1</td>\n",
       "      <td>1</td>\n",
       "      <td>1</td>\n",
       "      <td>79084.10</td>\n",
       "      <td>0</td>\n",
       "      <td>40-49</td>\n",
       "    </tr>\n",
       "    <tr>\n",
       "      <th>...</th>\n",
       "      <td>...</td>\n",
       "      <td>...</td>\n",
       "      <td>...</td>\n",
       "      <td>...</td>\n",
       "      <td>...</td>\n",
       "      <td>...</td>\n",
       "      <td>...</td>\n",
       "      <td>...</td>\n",
       "      <td>...</td>\n",
       "      <td>...</td>\n",
       "      <td>...</td>\n",
       "      <td>...</td>\n",
       "      <td>...</td>\n",
       "      <td>...</td>\n",
       "      <td>...</td>\n",
       "    </tr>\n",
       "    <tr>\n",
       "      <th>9995</th>\n",
       "      <td>9996</td>\n",
       "      <td>15606229</td>\n",
       "      <td>Obijiaku</td>\n",
       "      <td>771</td>\n",
       "      <td>France</td>\n",
       "      <td>Male</td>\n",
       "      <td>39</td>\n",
       "      <td>5</td>\n",
       "      <td>0.00</td>\n",
       "      <td>2</td>\n",
       "      <td>1</td>\n",
       "      <td>0</td>\n",
       "      <td>96270.64</td>\n",
       "      <td>0</td>\n",
       "      <td>30-39</td>\n",
       "    </tr>\n",
       "    <tr>\n",
       "      <th>9996</th>\n",
       "      <td>9997</td>\n",
       "      <td>15569892</td>\n",
       "      <td>Johnstone</td>\n",
       "      <td>516</td>\n",
       "      <td>France</td>\n",
       "      <td>Male</td>\n",
       "      <td>35</td>\n",
       "      <td>10</td>\n",
       "      <td>57369.61</td>\n",
       "      <td>1</td>\n",
       "      <td>1</td>\n",
       "      <td>1</td>\n",
       "      <td>101699.77</td>\n",
       "      <td>0</td>\n",
       "      <td>30-39</td>\n",
       "    </tr>\n",
       "    <tr>\n",
       "      <th>9997</th>\n",
       "      <td>9998</td>\n",
       "      <td>15584532</td>\n",
       "      <td>Liu</td>\n",
       "      <td>709</td>\n",
       "      <td>France</td>\n",
       "      <td>Female</td>\n",
       "      <td>36</td>\n",
       "      <td>7</td>\n",
       "      <td>0.00</td>\n",
       "      <td>1</td>\n",
       "      <td>0</td>\n",
       "      <td>1</td>\n",
       "      <td>42085.58</td>\n",
       "      <td>1</td>\n",
       "      <td>30-39</td>\n",
       "    </tr>\n",
       "    <tr>\n",
       "      <th>9998</th>\n",
       "      <td>9999</td>\n",
       "      <td>15682355</td>\n",
       "      <td>Sabbatini</td>\n",
       "      <td>772</td>\n",
       "      <td>Germany</td>\n",
       "      <td>Male</td>\n",
       "      <td>42</td>\n",
       "      <td>3</td>\n",
       "      <td>75075.31</td>\n",
       "      <td>2</td>\n",
       "      <td>1</td>\n",
       "      <td>0</td>\n",
       "      <td>92888.52</td>\n",
       "      <td>1</td>\n",
       "      <td>40-49</td>\n",
       "    </tr>\n",
       "    <tr>\n",
       "      <th>9999</th>\n",
       "      <td>10000</td>\n",
       "      <td>15628319</td>\n",
       "      <td>Walker</td>\n",
       "      <td>792</td>\n",
       "      <td>France</td>\n",
       "      <td>Female</td>\n",
       "      <td>28</td>\n",
       "      <td>4</td>\n",
       "      <td>130142.79</td>\n",
       "      <td>1</td>\n",
       "      <td>1</td>\n",
       "      <td>0</td>\n",
       "      <td>38190.78</td>\n",
       "      <td>0</td>\n",
       "      <td>20-29</td>\n",
       "    </tr>\n",
       "  </tbody>\n",
       "</table>\n",
       "<p>10000 rows × 15 columns</p>\n",
       "</div>"
      ],
      "text/plain": [
       "      RowNumber  CustomerId    Surname  CreditScore Geography  Gender  Age  \\\n",
       "0             1    15634602   Hargrave          619    France  Female   42   \n",
       "1             2    15647311       Hill          608     Spain  Female   41   \n",
       "2             3    15619304       Onio          502    France  Female   42   \n",
       "3             4    15701354       Boni          699    France  Female   39   \n",
       "4             5    15737888   Mitchell          850     Spain  Female   43   \n",
       "...         ...         ...        ...          ...       ...     ...  ...   \n",
       "9995       9996    15606229   Obijiaku          771    France    Male   39   \n",
       "9996       9997    15569892  Johnstone          516    France    Male   35   \n",
       "9997       9998    15584532        Liu          709    France  Female   36   \n",
       "9998       9999    15682355  Sabbatini          772   Germany    Male   42   \n",
       "9999      10000    15628319     Walker          792    France  Female   28   \n",
       "\n",
       "      Tenure    Balance  NumOfProducts  HasCrCard  IsActiveMember  \\\n",
       "0          2       0.00              1          1               1   \n",
       "1          1   83807.86              1          0               1   \n",
       "2          8  159660.80              3          1               0   \n",
       "3          1       0.00              2          0               0   \n",
       "4          2  125510.82              1          1               1   \n",
       "...      ...        ...            ...        ...             ...   \n",
       "9995       5       0.00              2          1               0   \n",
       "9996      10   57369.61              1          1               1   \n",
       "9997       7       0.00              1          0               1   \n",
       "9998       3   75075.31              2          1               0   \n",
       "9999       4  130142.79              1          1               0   \n",
       "\n",
       "      EstimatedSalary  churned AgeGroup  \n",
       "0           101348.88        1    40-49  \n",
       "1           112542.58        0    40-49  \n",
       "2           113931.57        1    40-49  \n",
       "3            93826.63        0    30-39  \n",
       "4            79084.10        0    40-49  \n",
       "...               ...      ...      ...  \n",
       "9995         96270.64        0    30-39  \n",
       "9996        101699.77        0    30-39  \n",
       "9997         42085.58        1    30-39  \n",
       "9998         92888.52        1    40-49  \n",
       "9999         38190.78        0    20-29  \n",
       "\n",
       "[10000 rows x 15 columns]"
      ]
     },
     "execution_count": 2,
     "metadata": {},
     "output_type": "execute_result"
    }
   ],
   "source": [
    "age_groups = [0, 20, 30, 40, 50, 60, 70, 80, 90, 100, 110]\n",
    "age_labels = ['0-19', '20-29', '30-39', '40-49', '50-59', '60-69', '70-79', '80-89', '90-99', '100-109']\n",
    "\n",
    "df['AgeGroup'] = pd.cut(df['Age'], bins=age_groups, labels=age_labels, right=False)\n",
    "df"
   ]
  },
  {
   "cell_type": "markdown",
   "id": "c70b23f8-adf2-4d48-8c7b-fb6287af0e0c",
   "metadata": {},
   "source": [
    "### Analysing the gender distribution of cutomers"
   ]
  },
  {
   "cell_type": "code",
   "execution_count": 3,
   "id": "9c56a95c-78f1-4b03-9120-26bcec34e3f7",
   "metadata": {},
   "outputs": [
    {
     "data": {
      "image/png": "[encoded data removed]",
      "text/plain": [
       "<Figure size 800x600 with 1 Axes>"
      ]
     },
     "metadata": {},
     "output_type": "display_data"
    }
   ],
   "source": [
    "import matplotlib.pyplot as plt\n",
    "no_female = 0\n",
    "no_male = 0\n",
    "for index, row in df.iterrows():\n",
    "    if (row['Gender'] == 'Female'):\n",
    "        no_female += 1\n",
    "    else:\n",
    "        no_male += 1\n",
    "\n",
    "plt.figure(figsize=(8, 6))\n",
    "plt.bar(['Female', 'Male'], [no_female, no_male], color=['blue', 'green'], alpha=0.7)\n",
    "\n",
    "plt.title('Gender Distribution of Customers')\n",
    "plt.xlabel('Gender')\n",
    "plt.ylabel('Number of Customers')\n",
    "plt.xticks(rotation=0)  # Ensure x-axis labels are not rotated\n",
    "plt.grid(axis='y')      # Add gridlines on the y-axis\n",
    "plt.show()\n",
    "\n",
    "    "
   ]
  },
  {
   "cell_type": "markdown",
   "id": "578caafe-5d25-4bab-a7ab-c5aed492d716",
   "metadata": {},
   "source": [
    "## Churn Analysis"
   ]
  },
  {
   "cell_type": "markdown",
   "id": "f052f8d1-df9c-4775-b84d-c2a059d90c68",
   "metadata": {},
   "source": [
    "### What percentage of customers have churned."
   ]
  },
  {
   "cell_type": "code",
   "execution_count": 21,
   "id": "7e613500-6b8c-4e41-933a-19f5eb589425",
   "metadata": {},
   "outputs": [
    {
     "name": "stdout",
     "output_type": "stream",
     "text": [
      "Percentage of customers who have churned:  20.37%\n"
     ]
    }
   ],
   "source": [
    "total_customers = df.shape[0]\n",
    "\n",
    "churned_customers = df['churned'].sum()\n",
    "\n",
    "percentage_churned = (churned_customers / total_customers) *  100\n",
    "\n",
    "print(f\"Percentage of customers who have churned: {percentage_churned: .2f}%\")"
   ]
  },
  {
   "cell_type": "markdown",
   "id": "50ba78c8-c476-4fdb-a4c0-6d8f265e2eaf",
   "metadata": {},
   "source": [
    "### What is the main reason for customers churning."
   ]
  },
  {
   "cell_type": "markdown",
   "id": "2990e5db-d302-41a9-b65d-12e16a4ae504",
   "metadata": {},
   "source": [
    "#### Now this is one of the most important and interesting questions"
   ]
  },
  {
   "cell_type": "code",
   "execution_count": 23,
   "id": "df7bc097-5287-46d7-b506-77d9412c834e",
   "metadata": {},
   "outputs": [
    {
     "name": "stdout",
     "output_type": "stream",
     "text": [
      "Geography\n",
      "France     0.161548\n",
      "Germany    0.324432\n",
      "Spain      0.166734\n",
      "Name: churned, dtype: float64\n",
      "Geography\n",
      "France     0.161548\n",
      "Germany    0.324432\n",
      "Spain      0.166734\n",
      "Name: churned, dtype: float64\n",
      "AgeGroup\n",
      "0-19       0.061224\n",
      "20-29      0.076005\n",
      "30-39      0.108836\n",
      "40-49      0.307869\n",
      "50-59      0.560414\n",
      "60-69      0.352000\n",
      "70-79      0.102941\n",
      "80-89      0.076923\n",
      "90-99      0.000000\n",
      "100-109         NaN\n",
      "Name: churned, dtype: float64\n"
     ]
    },
    {
     "name": "stderr",
     "output_type": "stream",
     "text": [
      "C:\\Users\\luv\\AppData\\Local\\Temp\\ipykernel_8040\\1369069678.py:3: FutureWarning: The default of observed=False is deprecated and will be changed to True in a future version of pandas. Pass observed=False to retain current behavior or observed=True to adopt the future default and silence this warning.\n",
      "  churn_by_age_group = df.groupby('AgeGroup')['churned'].mean()\n"
     ]
    },
    {
     "data": {
      "image/png": "[encoded data removed]",
      "text/plain": [
       "<Figure size 1000x600 with 1 Axes>"
      ]
     },
     "metadata": {},
     "output_type": "display_data"
    },
    {
     "data": {
      "image/png": "[encoded data removed]",
      "text/plain": [
       "<Figure size 800x600 with 1 Axes>"
      ]
     },
     "metadata": {},
     "output_type": "display_data"
    },
    {
     "data": {
      "image/png": "[encoded data removed]",
      "text/plain": [
       "<Figure size 1000x600 with 1 Axes>"
      ]
     },
     "metadata": {},
     "output_type": "display_data"
    }
   ],
   "source": [
    "churn_by_geography = df.groupby('Geography')['churned'].mean()\n",
    "churn_by_gender = df.groupby('Gender')['churned'].mean()\n",
    "churn_by_age_group = df.groupby('AgeGroup')['churned'].mean()\n",
    "\n",
    "print(churn_by_geography)\n",
    "print(churn_by_geography)\n",
    "print(churn_by_age_group)\n",
    "\n",
    "plt.figure(figsize=(10, 6))\n",
    "churn_by_geography.plot(kind='bar', color='skyblue')\n",
    "plt.title('Churn Rate by Geography')\n",
    "plt.xlabel('Geography')\n",
    "plt.ylabel('Churn Rate')\n",
    "plt.xticks(rotation=0)\n",
    "plt.grid(axis='y')\n",
    "plt.show()\n",
    "\n",
    "plt.figure(figsize=(8, 6))\n",
    "churn_by_gender.plot(kind='bar', color=['pink', 'lightblue'])\n",
    "plt.title('Churn Rate by Gender')\n",
    "plt.xlabel('Gender')\n",
    "plt.ylabel('Churn Rate')\n",
    "plt.xticks(rotation=0)\n",
    "plt.grid(axis='y')\n",
    "plt.show()\n",
    "\n",
    "plt.figure(figsize=(10, 6))\n",
    "churn_by_age_group.plot(kind='bar', color='lightgreen')\n",
    "plt.title('Churn Rate by Age Group')\n",
    "plt.xlabel('Age Group')\n",
    "plt.ylabel('Churn Rate')\n",
    "plt.xticks(rotation=0)\n",
    "plt.grid(axis='y')\n",
    "plt.show()\n",
    "# More ways we could solve this problem is by:\n",
    "# Machine learning models to determine feature importance in predicting churn\n",
    "#customer feedback and root cause analysis"
   ]
  },
  {
   "cell_type": "markdown",
   "id": "181b763c-9c39-4c49-aaa7-740ca27ed25a",
   "metadata": {},
   "source": [
    "#### We can see that one of the main reason for customers churning is reaching middle age. They have lost the interest in company and it's services the most.\n",
    " "
   ]
  },
  {
   "cell_type": "markdown",
   "id": "c4eb05d5-24c4-4a0d-8ca1-d10618bcdfe7",
   "metadata": {},
   "source": [
    "###  Similarly the above data plotted shows the trends and patterns among the people who have churned."
   ]
  },
  {
   "cell_type": "markdown",
   "id": "2825c10b-a43d-43b5-8a24-e921f34e50d5",
   "metadata": {},
   "source": [
    "# Product Usage"
   ]
  },
  {
   "cell_type": "markdown",
   "id": "03d54634-d2a4-4ec4-bf2f-ec0ae8b43823",
   "metadata": {},
   "source": [
    "### What are the most commonly used products or services."
   ]
  },
  {
   "cell_type": "code",
   "execution_count": null,
   "id": "71551f41-eabc-454a-a0d1-5882d3b6cb07",
   "metadata": {},
   "outputs": [],
   "source": [
    "# In the data provided i don't see a typical product or services for me to formulate\n",
    "# the data to find the most commonly used product or services."
   ]
  },
  {
   "cell_type": "code",
   "execution_count": 25,
   "id": "a23c2a5b-759c-4790-9bc6-451f1b55175b",
   "metadata": {},
   "outputs": [
    {
     "name": "stdout",
     "output_type": "stream",
     "text": [
      "NumOfProducts\n",
      "1    5084\n",
      "2    4590\n",
      "3     266\n",
      "4      60\n",
      "Name: count, dtype: int64\n"
     ]
    }
   ],
   "source": [
    "product_usage_counts = df['NumOfProducts'].value_counts()\n",
    "\n",
    "print(product_usage_counts)"
   ]
  },
  {
   "cell_type": "markdown",
   "id": "568fe7ea-d315-4953-a9a5-2e3cf050a06d",
   "metadata": {},
   "source": [
    "##### This shows the no. of products used by total no. of persons so total people using single product is 5084 and so on"
   ]
  },
  {
   "cell_type": "markdown",
   "id": "127eeed9-ce7c-4541-9909-05607081e646",
   "metadata": {},
   "source": [
    "### Analysing the usage pattern for customers with different segments."
   ]
  },
  {
   "cell_type": "code",
   "execution_count": 27,
   "id": "c430564c-a4e7-489e-a960-e01f694e44dc",
   "metadata": {},
   "outputs": [
    {
     "data": {
      "image/png": "[encoded data removed]",
      "text/plain": [
       "<Figure size 1000x600 with 1 Axes>"
      ]
     },
     "metadata": {},
     "output_type": "display_data"
    },
    {
     "data": {
      "image/png": "[encoded data removed]",
      "text/plain": [
       "<Figure size 800x600 with 1 Axes>"
      ]
     },
     "metadata": {},
     "output_type": "display_data"
    }
   ],
   "source": [
    "usage_by_age_group = df.groupby('AgeGroup', observed=False)['NumOfProducts'].mean()\n",
    "\n",
    "plt.figure(figsize=(10, 6))\n",
    "usage_by_age_group.plot(kind='bar', color='skyblue')\n",
    "plt.title('Average Number of Products Used by Age Group')\n",
    "plt.xlabel('Age Group')\n",
    "plt.ylabel('Average Number of Products')\n",
    "plt.xticks(rotation=0)\n",
    "plt.grid(axis='y')\n",
    "plt.show()\n",
    "\n",
    "usage_by_geography = df.groupby('Geography')['NumOfProducts'].median()\n",
    "\n",
    "plt.figure(figsize=(8, 6))\n",
    "usage_by_geography.plot(kind='bar', color='lightgreen')\n",
    "plt.title('Median Number of Products Used by Geography')\n",
    "plt.xlabel('Geography')\n",
    "plt.ylabel('Median Number of Products')\n",
    "plt.xticks(rotation=0)\n",
    "plt.grid(axis='y')\n",
    "plt.show()"
   ]
  },
  {
   "cell_type": "markdown",
   "id": "2d35e2e4-a504-432c-9b45-234ad58c2234",
   "metadata": {},
   "source": [
    "## Financial Anlysis"
   ]
  },
  {
   "cell_type": "markdown",
   "id": "607b42a1-7152-45b5-9d62-db4f320a1789",
   "metadata": {},
   "source": [
    "### What is the average account balance of customers."
   ]
  },
  {
   "cell_type": "code",
   "execution_count": 31,
   "id": "8e161191-cd43-4084-97bf-be05eaa05b97",
   "metadata": {},
   "outputs": [
    {
     "name": "stdout",
     "output_type": "stream",
     "text": [
      "The average account balance of customers is:  76485.89\n"
     ]
    }
   ],
   "source": [
    "average_balance = df['Balance'].mean()\n",
    "\n",
    "print(f\"The average account balance of customers is: {average_balance: .2f}\")\n",
    "\n",
    "# or a brute force way would be\n",
    "#for index, row in df.iterrows():\n",
    "    # Update the 'Balance' column in each row by adding to Total\n",
    "#    row['Balance'] += Total\n",
    "    # Accumulate the total sum of 'Balance'\n",
    "#    Total += row['Balance']"
   ]
  },
  {
   "cell_type": "markdown",
   "id": "17115bf8-591e-4157-a0a0-51b4a13b46aa",
   "metadata": {},
   "source": [
    "### Comparing the financial characterstics of churned and non-churned customers."
   ]
  },
  {
   "cell_type": "code",
   "execution_count": 39,
   "id": "3321ccb6-aaae-470f-badf-77026eb51cd2",
   "metadata": {},
   "outputs": [
    {
     "data": {
      "text/html": [
       "<div>\n",
       "<style scoped>\n",
       "    .dataframe tbody tr th:only-of-type {\n",
       "        vertical-align: middle;\n",
       "    }\n",
       "\n",
       "    .dataframe tbody tr th {\n",
       "        vertical-align: top;\n",
       "    }\n",
       "\n",
       "    .dataframe thead th {\n",
       "        text-align: right;\n",
       "    }\n",
       "</style>\n",
       "<table border=\"1\" class=\"dataframe\">\n",
       "  <thead>\n",
       "    <tr style=\"text-align: right;\">\n",
       "      <th></th>\n",
       "      <th>churned</th>\n",
       "      <th>CreditScore</th>\n",
       "      <th>Balance</th>\n",
       "      <th>NumOfProducts</th>\n",
       "      <th>EstimatedSalary</th>\n",
       "    </tr>\n",
       "  </thead>\n",
       "  <tbody>\n",
       "    <tr>\n",
       "      <th>0</th>\n",
       "      <td>0</td>\n",
       "      <td>651.853196</td>\n",
       "      <td>72745.296779</td>\n",
       "      <td>1.544267</td>\n",
       "      <td>99738.391772</td>\n",
       "    </tr>\n",
       "    <tr>\n",
       "      <th>1</th>\n",
       "      <td>1</td>\n",
       "      <td>645.351497</td>\n",
       "      <td>91108.539337</td>\n",
       "      <td>1.475209</td>\n",
       "      <td>101465.677531</td>\n",
       "    </tr>\n",
       "  </tbody>\n",
       "</table>\n",
       "</div>"
      ],
      "text/plain": [
       "   churned  CreditScore       Balance  NumOfProducts  EstimatedSalary\n",
       "0        0   651.853196  72745.296779       1.544267     99738.391772\n",
       "1        1   645.351497  91108.539337       1.475209    101465.677531"
      ]
     },
     "execution_count": 39,
     "metadata": {},
     "output_type": "execute_result"
    }
   ],
   "source": [
    "summary_stats = df.groupby('churned').agg({\n",
    "    'CreditScore': 'mean',\n",
    "    'Balance': 'mean',\n",
    "    'NumOfProducts': 'mean',\n",
    "    'EstimatedSalary': 'mean'\n",
    "}).reset_index()\n",
    "\n",
    "summary_stats"
   ]
  },
  {
   "cell_type": "markdown",
   "id": "be20d44a-7a4d-4f29-ba5a-238006498667",
   "metadata": {},
   "source": [
    "# Predictive Modelling"
   ]
  },
  {
   "cell_type": "markdown",
   "id": "23643608-1942-4ac4-94f5-8943199bc73f",
   "metadata": {},
   "source": [
    "### Which factors are the most significant predictors of customer churn."
   ]
  },
  {
   "cell_type": "code",
   "execution_count": 46,
   "id": "4ae6d50a-7db1-4e17-aedf-fc55543a661c",
   "metadata": {},
   "outputs": [
    {
     "data": {
      "text/plain": [
       "churned            1.000000\n",
       "Age                0.285323\n",
       "Balance            0.118533\n",
       "EstimatedSalary    0.012097\n",
       "CustomerId        -0.006248\n",
       "HasCrCard         -0.007138\n",
       "Tenure            -0.014001\n",
       "RowNumber         -0.016571\n",
       "CreditScore       -0.027094\n",
       "NumOfProducts     -0.047820\n",
       "IsActiveMember    -0.156128\n",
       "Name: churned, dtype: float64"
      ]
     },
     "execution_count": 46,
     "metadata": {},
     "output_type": "execute_result"
    }
   ],
   "source": [
    "import numpy as np\n",
    "\n",
    "numeric_columns = df.select_dtypes(include=[np.number]).columns\n",
    "\n",
    "# Calculate correlation matrix\n",
    "correlation_matrix = df[numeric_columns].corr()\n",
    "churn_correlations = correlation_matrix['churned'].sort_values(ascending=False)\n",
    "churn_correlations\n",
    "\n",
    "# we can see age has to do the most with customer churning."
   ]
  },
  {
   "cell_type": "markdown",
   "id": "c8778d87-5ead-4eef-b0da-2e0423253b0b",
   "metadata": {},
   "source": [
    "### Developing a predictive model to identify at risk customers"
   ]
  },
  {
   "cell_type": "code",
   "execution_count": 5,
   "id": "b3ffc269-9d5d-46b8-8ee8-5e4517ba3c70",
   "metadata": {},
   "outputs": [
    {
     "name": "stdout",
     "output_type": "stream",
     "text": [
      "              precision    recall  f1-score   support\n",
      "\n",
      "           0       0.88      0.96      0.92      1607\n",
      "           1       0.75      0.45      0.56       393\n",
      "\n",
      "    accuracy                           0.86      2000\n",
      "   macro avg       0.81      0.71      0.74      2000\n",
      "weighted avg       0.85      0.86      0.85      2000\n",
      "\n"
     ]
    }
   ],
   "source": [
    "from sklearn.model_selection import train_test_split\n",
    "from sklearn.ensemble import RandomForestClassifier\n",
    "from sklearn.metrics import classification_report, accuracy_score\n",
    "\n",
    "# Assuming X contains your features and y contains your target variable 'churned'\n",
    "X = df.drop('churned', axis=1)  # Assuming 'churned' is the target variable\n",
    "y = df['churned']\n",
    "# Step 1: Split data into training and testing sets\n",
    "X_train, X_test, y_train, y_test = train_test_split(X, y, test_size=0.2, random_state=42)\n",
    "\n",
    "# Step 2: Select numeric features and create X_train_numeric\n",
    "numeric_features = X_train.select_dtypes(include=['int64', 'float64']).columns\n",
    "X_train_numeric = X_train[numeric_features]\n",
    "\n",
    "# Step 3: Initialize RandomForestClassifier\n",
    "rf_model = RandomForestClassifier(random_state=42)\n",
    "\n",
    "# Step 4: Fit the model on numeric data\n",
    "rf_model.fit(X_train_numeric, y_train)\n",
    "\n",
    "# Step 5: Prepare test data (assuming X_test is already prepared similarly)\n",
    "X_test_numeric = X_test[numeric_features]\n",
    "\n",
    "# Step 6: Make predictions on test data\n",
    "y_pred = rf_model.predict(X_test_numeric)\n",
    "\n",
    "# Step 7: Evaluate model performance\n",
    "print(classification_report(y_test, y_pred))\n"
   ]
  }
 ],
 "metadata": {
  "kernelspec": {
   "display_name": "Python 3 (ipykernel)",
   "language": "python",
   "name": "python3"
  },
  "language_info": {
   "codemirror_mode": {
    "name": "ipython",
    "version": 3
   },
   "file_extension": ".py",
   "mimetype": "text/x-python",
   "name": "python",
   "nbconvert_exporter": "python",
   "pygments_lexer": "ipython3",
   "version": "3.11.7"
  }
 },
 "nbformat": 4,
 "nbformat_minor": 5
}
